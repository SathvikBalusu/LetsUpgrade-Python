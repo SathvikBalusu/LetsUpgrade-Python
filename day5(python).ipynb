{
  "nbformat": 4,
  "nbformat_minor": 0,
  "metadata": {
    "colab": {
      "name": "day5(python).ipynb",
      "provenance": []
    },
    "kernelspec": {
      "name": "python3",
      "display_name": "Python 3"
    }
  },
  "cells": [
    {
      "cell_type": "code",
      "metadata": {
        "id": "SwwISTVlslFV",
        "colab_type": "code",
        "colab": {
          "base_uri": "https://localhost:8080/",
          "height": 34
        },
        "outputId": "c2cf13d2-70c7-485f-9bbe-f2455a6b839d"
      },
      "source": [
        "#Sort by increasing order but all zeros should be at the right\n",
        "def move_non0(list1,n):\n",
        "  count=0\n",
        "  for i in range(n):\n",
        "    if list1[i]!=0:\n",
        "      list1[count]=list1[i]\n",
        "      count=count+1\n",
        "  while count<n:\n",
        "    list1[count]=0\n",
        "    count=count+1\n",
        "  return list1 \n",
        "  \n",
        "list1=[5,2,3,0,6,0,7,8,9,1,4,0]\n",
        "n=len(list1)\n",
        "list1.sort()\n",
        "print(\"The sorted list with all O's at the right is\",move_non0(list1,n))"
      ],
      "execution_count": 7,
      "outputs": [
        {
          "output_type": "stream",
          "text": [
            "The sorted list with all O's at the right is [1, 2, 3, 4, 5, 6, 7, 8, 9, 0, 0, 0]\n"
          ],
          "name": "stdout"
        }
      ]
    },
    {
      "cell_type": "code",
      "metadata": {
        "id": "UKutrrB7vJ8z",
        "colab_type": "code",
        "colab": {
          "base_uri": "https://localhost:8080/",
          "height": 34
        },
        "outputId": "d3119248-0c79-442a-a257-7784895e456a"
      },
      "source": [
        "#Merging two sorted lists using 1 for loop\n",
        "list1=[10,20,40,60,70,80]\n",
        "list2=[5,15,25,35,45,60]\n",
        "n1=len(list1)\n",
        "n2=len(list2)\n",
        "i,j=0,0\n",
        "res=[]\n",
        "while i<n1 and j<n2:\n",
        "  if list1[i]<list2[j]:\n",
        "    res.append(list1[i])\n",
        "    i=i+1\n",
        "  else:\n",
        "    res.append(list2[j])\n",
        "    j=j+1\n",
        "print(\"The sorted list is\",res)"
      ],
      "execution_count": 12,
      "outputs": [
        {
          "output_type": "stream",
          "text": [
            "The sorted list is [5, 10, 15, 20, 25, 35, 40, 45, 60]\n"
          ],
          "name": "stdout"
        }
      ]
    },
    {
      "cell_type": "code",
      "metadata": {
        "id": "IrbetFwVxHgq",
        "colab_type": "code",
        "colab": {}
      },
      "source": [
        ""
      ],
      "execution_count": null,
      "outputs": []
    }
  ]
}