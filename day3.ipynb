{
  "nbformat": 4,
  "nbformat_minor": 0,
  "metadata": {
    "colab": {
      "name": "day2.ipynb",
      "provenance": []
    },
    "kernelspec": {
      "name": "python3",
      "display_name": "Python 3"
    }
  },
  "cells": [
    {
      "cell_type": "code",
      "metadata": {
        "id": "QTlkajFOEtSe",
        "colab_type": "code",
        "colab": {
          "base_uri": "https://localhost:8080/",
          "height": 221
        },
        "outputId": "aaeed71b-33e1-475f-865d-ea5adad670de"
      },
      "source": [
        "#sum of n numbers\n",
        "sum=0\n",
        "i=0\n",
        "while i<=10:\n",
        "  sum=sum+i\n",
        "  print(sum)\n",
        "  i=i+1\n",
        "print(\"Final sum =\", sum)"
      ],
      "execution_count": 15,
      "outputs": [
        {
          "output_type": "stream",
          "text": [
            "0\n",
            "1\n",
            "3\n",
            "6\n",
            "10\n",
            "15\n",
            "21\n",
            "28\n",
            "36\n",
            "45\n",
            "55\n",
            "Final sum = 55\n"
          ],
          "name": "stdout"
        }
      ]
    },
    {
      "cell_type": "code",
      "metadata": {
        "id": "I1NIMOqnIixa",
        "colab_type": "code",
        "colab": {
          "base_uri": "https://localhost:8080/",
          "height": 51
        },
        "outputId": "fb823a08-7825-41d7-b896-20bbd31e2e7b"
      },
      "source": [
        "#whether a number is prime or not\n",
        "num=int(input(\"Enter a number\"))\n",
        "for i in range(2,num):\n",
        "  if(num%i==0):\n",
        "    print(\"The number\",num,\"is not a prime number\")\n",
        "    break\n",
        "else:\n",
        "  print(\"The number\",num,\"is a prime no\")"
      ],
      "execution_count": 22,
      "outputs": [
        {
          "output_type": "stream",
          "text": [
            "Enter a number71\n",
            "The number 71 is a prime no\n"
          ],
          "name": "stdout"
        }
      ]
    },
    {
      "cell_type": "code",
      "metadata": {
        "id": "ja3vLJQddXZ_",
        "colab_type": "code",
        "colab": {}
      },
      "source": [
        ""
      ],
      "execution_count": null,
      "outputs": []
    }
  ]
}
