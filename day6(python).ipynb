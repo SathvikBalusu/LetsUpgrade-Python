{
  "nbformat": 4,
  "nbformat_minor": 0,
  "metadata": {
    "colab": {
      "name": "day6(python).ipynb",
      "provenance": []
    },
    "kernelspec": {
      "name": "python3",
      "display_name": "Python 3"
    }
  },
  "cells": [
    {
      "cell_type": "code",
      "metadata": {
        "id": "YdayNYtDpOJn",
        "colab_type": "code",
        "colab": {
          "base_uri": "https://localhost:8080/",
          "height": 52
        },
        "outputId": "7f2fa0cb-e24f-4e76-ba21-4acd34133c8d"
      },
      "source": [
        "#Using list comprehension converting two list into dictionary\n",
        "list1=[1,2,3,4,5,6,7,8]\n",
        "list2=[\"a\",\"b\",\"c\",\"d\",\"e\"]\n",
        "len1=min(len(list1),len(list2))\n",
        "res={list1[i]:list2[i] for i in range(len1)}\n",
        "print(\"The Dictionary is \",res)\n",
        "type(res)"
      ],
      "execution_count": 23,
      "outputs": [
        {
          "output_type": "stream",
          "text": [
            "The Dictionary is  {1: 'a', 2: 'b', 3: 'c', 4: 'd', 5: 'e'}\n"
          ],
          "name": "stdout"
        },
        {
          "output_type": "execute_result",
          "data": {
            "text/plain": [
              "dict"
            ]
          },
          "metadata": {
            "tags": []
          },
          "execution_count": 23
        }
      ]
    }
  ]
}