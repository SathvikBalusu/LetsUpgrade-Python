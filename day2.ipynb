{
  "nbformat": 4,
  "nbformat_minor": 0,
  "metadata": {
    "colab": {
      "name": "day2.ipynb",
      "provenance": []
    },
    "kernelspec": {
      "name": "python3",
      "display_name": "Python 3"
    }
  },
  "cells": [
    {
      "cell_type": "code",
      "metadata": {
        "id": "FEN_uaRcNKya",
        "colab_type": "code",
        "colab": {
          "base_uri": "https://localhost:8080/",
          "height": 34
        },
        "outputId": "ef2b95cc-ff97-4f9a-a185-ed630e0c6380"
      },
      "source": [
        "#\\ Slash\n",
        "print(\"hello \\\n",
        " world\")"
      ],
      "execution_count": 3,
      "outputs": [
        {
          "output_type": "stream",
          "text": [
            "hello  world\n"
          ],
          "name": "stdout"
        }
      ]
    },
    {
      "cell_type": "code",
      "metadata": {
        "id": "FHEKlvXuNV8G",
        "colab_type": "code",
        "colab": {
          "base_uri": "https://localhost:8080/",
          "height": 35
        },
        "outputId": "79cb0fe8-3df3-4573-8ef8-3b8ee1a5b5ef"
      },
      "source": [
        "\"\"\" hello world \"\"\"\n"
      ],
      "execution_count": 4,
      "outputs": [
        {
          "output_type": "execute_result",
          "data": {
            "application/vnd.google.colaboratory.intrinsic": {
              "type": "string"
            },
            "text/plain": [
              "' hello world '"
            ]
          },
          "metadata": {
            "tags": []
          },
          "execution_count": 4
        }
      ]
    },
    {
      "cell_type": "code",
      "metadata": {
        "id": "oIgk77UqNv3X",
        "colab_type": "code",
        "colab": {
          "base_uri": "https://localhost:8080/",
          "height": 68
        },
        "outputId": "03cc35c7-430a-49a7-f33f-0ac4731ea749"
      },
      "source": [
        "#formatted output\n",
        "name=\"sathvik\"\n",
        "marks=90.86\n",
        "age=21\n",
        "print(\"the name of person is\",name,\"marks is\",marks,\"age is\",age)\n",
        "print(\"the name of person is %5s marks is %5.0f and age is %5d\"%(name,marks,age))\n",
        "print(f\"the name of person is {name} marks is {marks} age is {age}\")"
      ],
      "execution_count": 13,
      "outputs": [
        {
          "output_type": "stream",
          "text": [
            "the name of person is sathvik marks is 90.86 age is 21\n",
            "the name of person is sathvik marks is    91 and age is    21\n",
            "the name of person is sathvik marks is 90.86 age is 21\n"
          ],
          "name": "stdout"
        }
      ]
    },
    {
      "cell_type": "code",
      "metadata": {
        "id": "iidxbd3QOO0a",
        "colab_type": "code",
        "colab": {
          "base_uri": "https://localhost:8080/",
          "height": 119
        },
        "outputId": "53cdde45-1af1-406a-9556-ce9ee056210f"
      },
      "source": [
        "#Arithmetic Operator\n",
        "a=5\n",
        "b=2\n",
        "print(a+b)\n",
        "print(a-b)\n",
        "print(a*b)\n",
        "print(a/b)\n",
        "print(a//b)\n",
        "print(a**b)"
      ],
      "execution_count": 14,
      "outputs": [
        {
          "output_type": "stream",
          "text": [
            "7\n",
            "3\n",
            "10\n",
            "2.5\n",
            "2\n",
            "25\n"
          ],
          "name": "stdout"
        }
      ]
    },
    {
      "cell_type": "code",
      "metadata": {
        "id": "sjiQe5FpPQY-",
        "colab_type": "code",
        "colab": {
          "base_uri": "https://localhost:8080/",
          "height": 34
        },
        "outputId": "559c1343-4eca-4cf0-870e-4f75e3256396"
      },
      "source": [
        "#Assignment operator\n",
        "a=5\n",
        "b=2\n",
        "a+=b\n",
        "print(a)\n"
      ],
      "execution_count": 19,
      "outputs": [
        {
          "output_type": "stream",
          "text": [
            "7\n"
          ],
          "name": "stdout"
        }
      ]
    },
    {
      "cell_type": "code",
      "metadata": {
        "id": "y7B6N_QNPiOb",
        "colab_type": "code",
        "colab": {
          "base_uri": "https://localhost:8080/",
          "height": 68
        },
        "outputId": "693d1367-e351-4b5d-8a5c-c03f062eff57"
      },
      "source": [
        "#Bitwise operator\n",
        "a=5\n",
        "b=2\n",
        "print(a&b)\n",
        "print(a|b)\n",
        "print(~a)"
      ],
      "execution_count": 23,
      "outputs": [
        {
          "output_type": "stream",
          "text": [
            "0\n",
            "7\n",
            "-6\n"
          ],
          "name": "stdout"
        }
      ]
    },
    {
      "cell_type": "code",
      "metadata": {
        "id": "lqFUuypCQFIF",
        "colab_type": "code",
        "colab": {
          "base_uri": "https://localhost:8080/",
          "height": 68
        },
        "outputId": "3e5d5288-a193-46de-a21d-5b76cc8ec624"
      },
      "source": [
        "#Logical operator\n",
        "a=5\n",
        "b=2\n",
        "c=4\n",
        "print((a>b and b<c))\n",
        "print((a>b or b>c))\n",
        "print(not a>b)"
      ],
      "execution_count": 29,
      "outputs": [
        {
          "output_type": "stream",
          "text": [
            "True\n",
            "True\n",
            "False\n"
          ],
          "name": "stdout"
        }
      ]
    },
    {
      "cell_type": "code",
      "metadata": {
        "id": "XkcUkBAiQiP3",
        "colab_type": "code",
        "colab": {
          "base_uri": "https://localhost:8080/",
          "height": 51
        },
        "outputId": "bfc57d29-5a03-4c00-ed7c-631293769ef0"
      },
      "source": [
        "#Membership operator\n",
        "str=\"sathvik\"\n",
        "print('a' in str)\n",
        "print('b' in str)"
      ],
      "execution_count": 34,
      "outputs": [
        {
          "output_type": "stream",
          "text": [
            "True\n",
            "False\n"
          ],
          "name": "stdout"
        }
      ]
    },
    {
      "cell_type": "code",
      "metadata": {
        "id": "7QHdcUVtQ9c_",
        "colab_type": "code",
        "colab": {
          "base_uri": "https://localhost:8080/",
          "height": 34
        },
        "outputId": "c4c874ec-7439-499f-c324-26f3d73c213c"
      },
      "source": [
        "#Identity operator\n",
        "a=300\n",
        "b=300\n",
        "a is b"
      ],
      "execution_count": 36,
      "outputs": [
        {
          "output_type": "execute_result",
          "data": {
            "text/plain": [
              "False"
            ]
          },
          "metadata": {
            "tags": []
          },
          "execution_count": 36
        }
      ]
    },
    {
      "cell_type": "code",
      "metadata": {
        "id": "HNDW4t9zRQeB",
        "colab_type": "code",
        "colab": {}
      },
      "source": [
        ""
      ],
      "execution_count": null,
      "outputs": []
    }
  ]
}