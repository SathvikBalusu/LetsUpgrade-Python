{
  "nbformat": 4,
  "nbformat_minor": 0,
  "metadata": {
    "colab": {
      "name": "day4(python).ipynb",
      "provenance": []
    },
    "kernelspec": {
      "name": "python3",
      "display_name": "Python 3"
    }
  },
  "cells": [
    {
      "cell_type": "code",
      "metadata": {
        "id": "__a_91KwlCXg",
        "colab_type": "code",
        "colab": {
          "base_uri": "https://localhost:8080/",
          "height": 70
        },
        "outputId": "d8660b57-0646-4068-837b-a8544793cfa4"
      },
      "source": [
        "string=\"He has a red ball,blue ball,green ball\"\n",
        "sub=\"ball\"\n",
        "count=0 \n",
        "for i in range(len(string)):\n",
        "  if string.startswith(sub,i):\n",
        "    count=count+1\n",
        "    print(\"The starting index of the\" ,count,\"sub string is:\",i)"
      ],
      "execution_count": 12,
      "outputs": [
        {
          "output_type": "stream",
          "text": [
            "The starting index of the 1 sub string is: 13\n",
            "The starting index of the 2 sub string is: 23\n",
            "The starting index of the 3 sub string is: 34\n"
          ],
          "name": "stdout"
        }
      ]
    },
    {
      "cell_type": "code",
      "metadata": {
        "id": "Mmd9l3tBln1H",
        "colab_type": "code",
        "colab": {
          "base_uri": "https://localhost:8080/",
          "height": 34
        },
        "outputId": "b34ec100-90d3-4c35-dfb7-fbcf497e3a2d"
      },
      "source": [
        "#islower() and isupper()\n",
        "string=\"super5 python programmer\"\n",
        "print(string.islower())"
      ],
      "execution_count": 18,
      "outputs": [
        {
          "output_type": "stream",
          "text": [
            "True\n"
          ],
          "name": "stdout"
        }
      ]
    },
    {
      "cell_type": "code",
      "metadata": {
        "id": "0qox5sp7oKHw",
        "colab_type": "code",
        "colab": {
          "base_uri": "https://localhost:8080/",
          "height": 34
        },
        "outputId": "4eeda912-9854-42b9-bbf0-bfe8912e2213"
      },
      "source": [
        "string=\"super5 python programmer\"\n",
        "print(string.isupper())"
      ],
      "execution_count": 19,
      "outputs": [
        {
          "output_type": "stream",
          "text": [
            "False\n"
          ],
          "name": "stdout"
        }
      ]
    },
    {
      "cell_type": "code",
      "metadata": {
        "id": "sGETy5FpokTv",
        "colab_type": "code",
        "colab": {
          "base_uri": "https://localhost:8080/",
          "height": 34
        },
        "outputId": "01334f17-faf6-4832-fb89-332adbb52824"
      },
      "source": [
        "string=\"SUPER 5 PYTHON PROGRAMMER\"\n",
        "print(string.isupper())"
      ],
      "execution_count": 21,
      "outputs": [
        {
          "output_type": "stream",
          "text": [
            "True\n"
          ],
          "name": "stdout"
        }
      ]
    }
  ]
}