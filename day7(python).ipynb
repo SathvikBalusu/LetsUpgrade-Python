{
  "nbformat": 4,
  "nbformat_minor": 0,
  "metadata": {
    "colab": {
      "name": "day7(python).ipynb",
      "provenance": []
    },
    "kernelspec": {
      "name": "python3",
      "display_name": "Python 3"
    }
  },
  "cells": [
    {
      "cell_type": "code",
      "metadata": {
        "id": "mZACbmH2c779",
        "colab_type": "code",
        "colab": {
          "base_uri": "https://localhost:8080/",
          "height": 87
        },
        "outputId": "d74c95e0-d8ad-4ce3-c11f-4b5233ccce9f"
      },
      "source": [
        "#Question 1:\n",
        "dict1={21:\"FTP\",22:\"SSH\",23:\"Telnet\",80:\"http\"}\n",
        "print(\"Original Dictionary \\n\",dict1)\n",
        "revdict={value:key for key,value in dict1.items()}\n",
        "print(\"After swapping key values pairs in dictionary\")\n",
        "print(revdict)"
      ],
      "execution_count": 13,
      "outputs": [
        {
          "output_type": "stream",
          "text": [
            "Original Dictionary \n",
            " {21: 'FTP', 22: 'SSH', 23: 'Telnet', 80: 'http'}\n",
            "After swapping key values pairs in dictionary\n",
            "{'FTP': 21, 'SSH': 22, 'Telnet': 23, 'http': 80}\n"
          ],
          "name": "stdout"
        }
      ]
    },
    {
      "cell_type": "code",
      "metadata": {
        "id": "Oikgu7mXhzZK",
        "colab_type": "code",
        "colab": {
          "base_uri": "https://localhost:8080/",
          "height": 34
        },
        "outputId": "75190251-5a2a-433a-e0ec-3ccf8b6719c3"
      },
      "source": [
        "#Question 2:\n",
        "list1=[(1,2),(3,4),(5,6),(4,5)]\n",
        "out_list=[]\n",
        "for i in list1:\n",
        "  output=sum(list(i))\n",
        "  out_list.append(output)\n",
        "print(out_list)"
      ],
      "execution_count": 38,
      "outputs": [
        {
          "output_type": "stream",
          "text": [
            "[3, 7, 11, 9]\n"
          ],
          "name": "stdout"
        }
      ]
    },
    {
      "cell_type": "code",
      "metadata": {
        "id": "GAC7aFG7ExjW",
        "colab_type": "code",
        "colab": {
          "base_uri": "https://localhost:8080/",
          "height": 34
        },
        "outputId": "a5f12550-6605-4da5-e2cf-a4b8ecf4148e"
      },
      "source": [
        "#Question 3:\n",
        "list1=[(1,2,3),[1,2],[\"a\",\"hit\",\"less\"]]\n",
        "def flatten(lists):\n",
        "  results = []\n",
        "  for numbers in list1:\n",
        "        for numbers2 in numbers:\n",
        "          results.append(numbers2) \n",
        "  return results\n",
        "print(flatten(list1))"
      ],
      "execution_count": 37,
      "outputs": [
        {
          "output_type": "stream",
          "text": [
            "[1, 2, 3, 1, 2, 'a', 'hit', 'less']\n"
          ],
          "name": "stdout"
        }
      ]
    }
  ]
}